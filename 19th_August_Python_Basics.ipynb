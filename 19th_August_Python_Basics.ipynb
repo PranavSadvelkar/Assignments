{
 "cells": [
  {
   "cell_type": "raw",
   "id": "966a5f8b-0e11-4ea9-af85-1da2a5f4bd42",
   "metadata": {},
   "source": [
    "19th Aug'23 : Python Basics Assignment"
   ]
  },
  {
   "cell_type": "markdown",
   "id": "b822efe1-db34-4493-be3d-38316d512cc0",
   "metadata": {},
   "source": [
    "TOPIC: Python Basics Variable"
   ]
  },
  {
   "cell_type": "raw",
   "id": "583937a3-1706-49c4-9e76-1e800dde0492",
   "metadata": {},
   "source": [
    "1. Declare two variables, `x` and `y`, and assign them integer values. Swap thevalues of these variables without using any temporary variable."
   ]
  },
  {
   "cell_type": "code",
   "execution_count": 1,
   "id": "0009f360-6fe2-49ab-aa0b-b624fa451be5",
   "metadata": {},
   "outputs": [
    {
     "name": "stdout",
     "output_type": "stream",
     "text": [
      "Variables before swapping x: 12 and y: 24\n",
      "Variables after swapping x: 24 and y: 12\n"
     ]
    }
   ],
   "source": [
    "# Declaring Variables x and y.\n",
    "x = 12\n",
    "y = 24\n",
    "# Creating function to swap the variables.\n",
    "def swap_variables(x,y):\n",
    " print(f\"Variables before swapping x: {x} and y: {y}\")\n",
    " x,y = y, x\n",
    " print(f\"Variables after swapping x: {x} and y: {y}\")\n",
    "swap_variables(x,y)"
   ]
  },
  {
   "cell_type": "raw",
   "id": "6d3f6b37-5587-4f22-87ec-475245f68294",
   "metadata": {},
   "source": [
    "2. Create a program that calculates the area of a rectangle. Take the length and  width as inputs from the user and store them in variables. Calculate and display the area."
   ]
  },
  {
   "cell_type": "code",
   "execution_count": 15,
   "id": "d445597b-af80-432b-ae62-95aed851e6df",
   "metadata": {},
   "outputs": [
    {
     "name": "stdin",
     "output_type": "stream",
     "text": [
      "Enter the length of the rectangle :  6\n",
      "Enter the width of the rectangle :  5\n"
     ]
    },
    {
     "name": "stdout",
     "output_type": "stream",
     "text": [
      "Area of the rectangle is 30.0\n"
     ]
    }
   ],
   "source": [
    "# Taking the input from the user for length and breadth.\n",
    "l = float(input(\"Enter the length of the rectangle : \"))\n",
    "w = float(input(\"Enter the width of the rectangle : \"))\n",
    "# Giving the formula to calculate the area of the rectangle.\n",
    "Area = l * w\n",
    "# Displaying the area with the print function.\n",
    "print(\"Area of the rectangle is\",Area)"
   ]
  },
  {
   "cell_type": "raw",
   "id": "2d74b816-1e95-44b5-b4fd-b500f84b068b",
   "metadata": {},
   "source": [
    "3. Write a Python program that converts temperatures from Celsius to\n",
    "Fahrenheit. Take the temperature in Celsius as input, store it in a variable,\n",
    "convert it to Fahrenheit, and display the result."
   ]
  },
  {
   "cell_type": "code",
   "execution_count": 4,
   "id": "0d055c89-48fa-4456-b3d2-649f08753616",
   "metadata": {},
   "outputs": [
    {
     "name": "stdin",
     "output_type": "stream",
     "text": [
      "Enter the temperature in celsius scale 45\n"
     ]
    },
    {
     "name": "stdout",
     "output_type": "stream",
     "text": [
      "The temperature in fahrenheit scale is 113.0\n"
     ]
    }
   ],
   "source": [
    "# Taking the input from the user for temperature in celsius.\n",
    "temp_celsius = float(input(\"Enter the temperature in celsius scale\"))\n",
    "C = temp_celsius\n",
    "# Giving the formula to convert celsius to fahrenheit.\n",
    "F = (9/5 * C) + 32.\n",
    "# Displaying the temperature in fahrenheit scale.\n",
    "print(\"The temperature in fahrenheit scale is\",F)"
   ]
  },
  {
   "cell_type": "raw",
   "id": "eaabfea2-a86e-483b-9a68-45b001f2d5d0",
   "metadata": {},
   "source": []
  },
  {
   "cell_type": "markdown",
   "id": "dd49b828-0edc-4570-ba8a-8dcb78dde9c4",
   "metadata": {},
   "source": [
    "TOPIC: String Based Questions"
   ]
  },
  {
   "cell_type": "raw",
   "id": "526c49e8-225b-44a2-9ca4-083110bd74ea",
   "metadata": {},
   "source": [
    "1. Write a Python program that takes a string as input and prints the length of\n",
    "the string."
   ]
  },
  {
   "cell_type": "code",
   "execution_count": 16,
   "id": "c83e2b23-229d-4fd1-bf9c-486e422d94c8",
   "metadata": {},
   "outputs": [
    {
     "name": "stdin",
     "output_type": "stream",
     "text": [
      "Enter a string:  Progress in silence\n"
     ]
    },
    {
     "name": "stdout",
     "output_type": "stream",
     "text": [
      "The length of the input string is: 19\n"
     ]
    }
   ],
   "source": [
    "# Taking the input from the user in string format.\n",
    "b = str(input(\"Enter a string: \"))\n",
    "# Using the built-in function length to calculate the length of the string.\n",
    "c = len(b)\n",
    "# Displaying the length of string.\n",
    "print(\"The length of the input string is:\",c)"
   ]
  },
  {
   "cell_type": "raw",
   "id": "1a96ec22-ec24-4595-835c-c74f93135163",
   "metadata": {},
   "source": [
    "2. Create a program that takes a sentence from the user and counts the number\n",
    "of vowels (a, e, i, o, u) in the string."
   ]
  },
  {
   "cell_type": "code",
   "execution_count": 8,
   "id": "ba08fe77-073e-440a-aa52-08042463b4bf",
   "metadata": {},
   "outputs": [
    {
     "name": "stdin",
     "output_type": "stream",
     "text": [
      "Enter a sentence:  My name is Hulk\n"
     ]
    },
    {
     "name": "stdout",
     "output_type": "stream",
     "text": [
      "Number of vowels: 4\n"
     ]
    }
   ],
   "source": [
    "# Get input from the user.\n",
    "sentence = input(\"Enter a sentence: \")\n",
    "vowel_count = 0\n",
    "for char in sentence:\n",
    "    if char in \"aeiou\":\n",
    "# If the character is a vowel, increment the vowel_count variable.\n",
    "       vowel_count = vowel_count + 1\n",
    "# Display the result.\n",
    "print(\"Number of vowels:\", vowel_count)"
   ]
  },
  {
   "cell_type": "raw",
   "id": "2c9d7e53-7fdd-4ef7-83ff-1b9fb4396ec0",
   "metadata": {},
   "source": [
    "3. Given a string, reverse the order of characters using string slicing and print\n",
    "the reversed string."
   ]
  },
  {
   "cell_type": "code",
   "execution_count": 12,
   "id": "8876598c-14f7-4fbf-bfbc-a5bcb66b3219",
   "metadata": {},
   "outputs": [
    {
     "name": "stdin",
     "output_type": "stream",
     "text": [
      "Enter the string Ironman\n"
     ]
    },
    {
     "name": "stdout",
     "output_type": "stream",
     "text": [
      "The reversed string is namnorI\n"
     ]
    }
   ],
   "source": [
    "#  Get the input string from the user\n",
    "string = input(\"Enter the string\")\n",
    "# Using string indexing and slicing to reverse the string.\n",
    "reversed_string = string[::-1]\n",
    "# Printing the reversed string.\n",
    "print(\"The reversed string is\",reversed_string)"
   ]
  },
  {
   "cell_type": "raw",
   "id": "33fa849f-760a-4a0f-bc16-20a1c2eea6c4",
   "metadata": {},
   "source": [
    "4. Write a program that takes a string as input and checks if it is a palindrome \n",
    "(reads the same forwards and backwards)."
   ]
  },
  {
   "cell_type": "code",
   "execution_count": 14,
   "id": "4a91790a-3926-481b-beef-d7ee1e2910cd",
   "metadata": {},
   "outputs": [
    {
     "name": "stdin",
     "output_type": "stream",
     "text": [
      "Enter the string Ironman\n"
     ]
    },
    {
     "name": "stdout",
     "output_type": "stream",
     "text": [
      "The given string is not a Palindrome\n"
     ]
    }
   ],
   "source": [
    "# Get input from the user.\n",
    "string1 = input(\"Enter the string\")\n",
    "reversed_string1 = string1[::-1]\n",
    "# Compare both the strings for Palindrome.\n",
    "if string1 == reversed_string1:\n",
    "    print(\"The given string is a Palindrome\")\n",
    "else:\n",
    "    print(\"The given string is not a Palindrome\")"
   ]
  },
  {
   "cell_type": "raw",
   "id": "5251f348-6871-4ea0-87ae-504454365535",
   "metadata": {},
   "source": [
    "5. Create a program that takes a string as input and removes all the spaces from\n",
    "it. Print the modified string without spaces."
   ]
  },
  {
   "cell_type": "code",
   "execution_count": 11,
   "id": "90e382ef-df1f-4ab0-9321-9052c900b450",
   "metadata": {},
   "outputs": [
    {
     "name": "stdin",
     "output_type": "stream",
     "text": [
      "Enter a string:  War of Thunder\n"
     ]
    },
    {
     "name": "stdout",
     "output_type": "stream",
     "text": [
      "Modified string without spaces: WarofThunder\n"
     ]
    }
   ],
   "source": [
    "# Take input from the user\n",
    "input_string = input(\"Enter a string: \")\n",
    "modified_string = \"\"\n",
    "# Check if the character is not a space.\n",
    "for char in input_string:\n",
    "    if char != \" \":\n",
    "        modified_string = modified_string + char\n",
    "# Print the modified string without spaces\n",
    "print(\"Modified string without spaces:\", modified_string)\n"
   ]
  },
  {
   "cell_type": "code",
   "execution_count": null,
   "id": "f04f2c2a-e757-442b-bd5d-64a4ccc39dfe",
   "metadata": {},
   "outputs": [],
   "source": []
  }
 ],
 "metadata": {
  "kernelspec": {
   "display_name": "Python 3 (ipykernel)",
   "language": "python",
   "name": "python3"
  },
  "language_info": {
   "codemirror_mode": {
    "name": "ipython",
    "version": 3
   },
   "file_extension": ".py",
   "mimetype": "text/x-python",
   "name": "python",
   "nbconvert_exporter": "python",
   "pygments_lexer": "ipython3",
   "version": "3.10.8"
  }
 },
 "nbformat": 4,
 "nbformat_minor": 5
}
